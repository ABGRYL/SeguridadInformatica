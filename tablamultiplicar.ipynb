{
 "cells": [
  {
   "cell_type": "code",
   "execution_count": 2,
   "id": "75989b78",
   "metadata": {},
   "outputs": [
    {
     "name": "stdout",
     "output_type": "stream",
     "text": [
      "ingresa el inicio tabla 1\n",
      "ingresa hasta donde 7\n",
      "ingresa el inicio rango 5\n",
      "ingresa el final rango 7\n",
      "1 x 5 = 5\n",
      "1 x 6 = 6\n",
      "1 x 7 = 7\n",
      "\n",
      "2 x 5 = 10\n",
      "2 x 6 = 12\n",
      "2 x 7 = 14\n",
      "\n",
      "3 x 5 = 15\n",
      "3 x 6 = 18\n",
      "3 x 7 = 21\n",
      "\n",
      "4 x 5 = 20\n",
      "4 x 6 = 24\n",
      "4 x 7 = 28\n",
      "\n",
      "5 x 5 = 25\n",
      "5 x 6 = 30\n",
      "5 x 7 = 35\n",
      "\n",
      "6 x 5 = 30\n",
      "6 x 6 = 36\n",
      "6 x 7 = 42\n",
      "\n",
      "7 x 5 = 35\n",
      "7 x 6 = 42\n",
      "7 x 7 = 49\n",
      "\n"
     ]
    }
   ],
   "source": [
    "#Tabla multiplicar\n",
    "#Inicio_rango = 1\n",
    "#final_rango = 3\n",
    "#Inicio_tabla = 5\n",
    "#final_tabla = 7\n",
    "\n",
    "factor = int(input (\"ingresa el inicio tabla \"))\n",
    "hasta = int(input (\"ingresa hasta donde \"))\n",
    "inicio_rango = int (input(\"ingresa el inicio rango \"))\n",
    "final_rango = int (input(\"ingresa el final rango \") )\n",
    "\n",
    "for f in range(factor, hasta + 1):\n",
    "\tfor j in range(inicio_rango, final_rango + 1):\n",
    "\t\trango = f * j\n",
    "\t\tprint(f\"{f} x {j} = {rango}\")\n",
    "\tprint()"
   ]
  },
  {
   "cell_type": "code",
   "execution_count": null,
   "id": "2840d41c",
   "metadata": {},
   "outputs": [],
   "source": []
  }
 ],
 "metadata": {
  "kernelspec": {
   "display_name": "Python 3 (ipykernel)",
   "language": "python",
   "name": "python3"
  },
  "language_info": {
   "codemirror_mode": {
    "name": "ipython",
    "version": 3
   },
   "file_extension": ".py",
   "mimetype": "text/x-python",
   "name": "python",
   "nbconvert_exporter": "python",
   "pygments_lexer": "ipython3",
   "version": "3.11.4"
  }
 },
 "nbformat": 4,
 "nbformat_minor": 5
}
