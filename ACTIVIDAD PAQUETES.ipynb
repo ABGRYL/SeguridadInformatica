{
 "cells": [
  {
   "cell_type": "code",
   "execution_count": 5,
   "id": "ba9ac3ce",
   "metadata": {
    "scrolled": false
   },
   "outputs": [],
   "source": [
    "from paquete import modulo1\n",
    "from paquete import modulo2\n",
    "from paquete import modulo3"
   ]
  },
  {
   "cell_type": "code",
   "execution_count": 6,
   "id": "a9c47ef3",
   "metadata": {
    "scrolled": true
   },
   "outputs": [
    {
     "name": "stdout",
     "output_type": "stream",
     "text": [
      "¿Cómo te llamas? Abril\n",
      "¿Cuántos años tienes? 19\n",
      "¿Cuál es tu dirección? region 230 manzana 29\n",
      "¿Cuál es tu número de teléfono? 92837838\n",
      "Abril tiene 19 años, vive en region 230 manzana 29 y su número de teléfono es 92837838\n"
     ]
    }
   ],
   "source": [
    "modulo1.diccionarios()"
   ]
  },
  {
   "cell_type": "code",
   "execution_count": 7,
   "id": "cea52c4d",
   "metadata": {
    "scrolled": true
   },
   "outputs": [
    {
     "name": "stdout",
     "output_type": "stream",
     "text": [
      "¿Qué fruta quieres? Frutas disponibles: Fresa, Kiwi, Manzana Fresa\n",
      "¿Cuántos kilos? 10\n",
      "10.0 kilos de Fresa valen 480.0 $\n"
     ]
    }
   ],
   "source": [
    "modulo2.preciosfrutas()"
   ]
  },
  {
   "cell_type": "code",
   "execution_count": 8,
   "id": "3a5d2dcd",
   "metadata": {
    "scrolled": true
   },
   "outputs": [
    {
     "name": "stdout",
     "output_type": "stream",
     "text": [
      "Introduce la contraseña: contraseña\n",
      "La contaseña coincide\n"
     ]
    }
   ],
   "source": [
    "modulo3.contraseña()"
   ]
  },
  {
   "cell_type": "code",
   "execution_count": null,
   "id": "00db8388",
   "metadata": {},
   "outputs": [],
   "source": []
  }
 ],
 "metadata": {
  "kernelspec": {
   "display_name": "Python 3 (ipykernel)",
   "language": "python",
   "name": "python3"
  },
  "language_info": {
   "codemirror_mode": {
    "name": "ipython",
    "version": 3
   },
   "file_extension": ".py",
   "mimetype": "text/x-python",
   "name": "python",
   "nbconvert_exporter": "python",
   "pygments_lexer": "ipython3",
   "version": "3.11.4"
  }
 },
 "nbformat": 4,
 "nbformat_minor": 5
}
