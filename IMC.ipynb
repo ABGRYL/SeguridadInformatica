{
 "cells": [
  {
   "cell_type": "code",
   "execution_count": null,
   "id": "6bbe8c6c",
   "metadata": {},
   "outputs": [],
   "source": [
    "#Crear función que determine el Indice de masa corporal y que me diga el nivel del peso\n",
    "\n",
    "#Peso, altura, nombre\n",
    "\n",
    "def calcular_imc():\n",
    " \n",
    "    nombre = input(\"Ingrese su nombre: \")\n",
    "\n",
    "   \n",
    "    altura = float(input(\"Ingrese su altura: \"))\n",
    "\n",
    "  \n",
    "    peso = float(input(\"Ingrese su peso kg: \"))\n",
    "\n",
    "   \n",
    "    imc = peso / (altura ** 2)\n",
    "\n",
    "   \n",
    "    if imc < 18.5:\n",
    "        clasificacion = \"Bajo peso\"\n",
    "    elif 18.5 <= imc < 24.9:\n",
    "        clasificacion = \"Peso normal\"\n",
    "    elif 25 <= imc < 29.9:\n",
    "        clasificacion = \"Sobrepeso\"\n",
    "    else:\n",
    "        clasificacion = \"Obesidad\"\n",
    "\n",
    " \n",
    "    print(f\"\\n¡Hola {nombre}!\")\n",
    "    print(f\"Tu Índice de Masa Corporal (IMC) es: {imc:.2f}\")\n",
    "    print(f\"Tu peso es: {clasificacion}\")\n",
    "\n",
    "# Llamar a la función para probarla\n",
    "calcular_imc()"
   ]
  }
 ],
 "metadata": {
  "kernelspec": {
   "display_name": "Python 3 (ipykernel)",
   "language": "python",
   "name": "python3"
  },
  "language_info": {
   "codemirror_mode": {
    "name": "ipython",
    "version": 3
   },
   "file_extension": ".py",
   "mimetype": "text/x-python",
   "name": "python",
   "nbconvert_exporter": "python",
   "pygments_lexer": "ipython3",
   "version": "3.11.4"
  }
 },
 "nbformat": 4,
 "nbformat_minor": 5
}
